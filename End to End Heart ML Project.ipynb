{
 "cells": [
  {
   "cell_type": "code",
   "execution_count": 1,
   "id": "e9546a4a-982a-46fc-a1d6-0feb89d62577",
   "metadata": {},
   "outputs": [],
   "source": [
    "import numpy as np \n",
    "import pandas as pd \n",
    "import matplotlib.pyplot as plt \n",
    "import seaborn as sns \n",
    "from sklearn.model_selection import train_test_split\n",
    "from sklearn.preprocessing import LabelEncoder\n",
    "from sklearn.linear_model import LogisticRegression\n",
    "from sklearn.tree import DecisionTreeClassifier\n",
    "from sklearn.svm import SVC\n",
    "from sklearn.naive_bayes import GaussianNB\n",
    "from sklearn.neighbors import KNeighborsClassifier\n",
    "from sklearn.metrics import accuracy_score,confusion_matrix\n",
    "from sklearn.model_selection import GridSearchCV\n",
    "import warnings \n",
    "warnings.filterwarnings('ignore')"
   ]
  },
  {
   "cell_type": "code",
   "execution_count": 2,
   "id": "02f61fbf-5839-4012-92e8-58047010f788",
   "metadata": {},
   "outputs": [
    {
     "data": {
      "text/html": [
       "<div>\n",
       "<style scoped>\n",
       "    .dataframe tbody tr th:only-of-type {\n",
       "        vertical-align: middle;\n",
       "    }\n",
       "\n",
       "    .dataframe tbody tr th {\n",
       "        vertical-align: top;\n",
       "    }\n",
       "\n",
       "    .dataframe thead th {\n",
       "        text-align: right;\n",
       "    }\n",
       "</style>\n",
       "<table border=\"1\" class=\"dataframe\">\n",
       "  <thead>\n",
       "    <tr style=\"text-align: right;\">\n",
       "      <th></th>\n",
       "      <th>Age</th>\n",
       "      <th>Sex</th>\n",
       "      <th>ChestPainType</th>\n",
       "      <th>RestingBP</th>\n",
       "      <th>Cholesterol</th>\n",
       "      <th>FastingBS</th>\n",
       "      <th>RestingECG</th>\n",
       "      <th>MaxHR</th>\n",
       "      <th>ExerciseAngina</th>\n",
       "      <th>Oldpeak</th>\n",
       "      <th>ST_Slope</th>\n",
       "      <th>HeartDisease</th>\n",
       "    </tr>\n",
       "  </thead>\n",
       "  <tbody>\n",
       "    <tr>\n",
       "      <th>0</th>\n",
       "      <td>40.0</td>\n",
       "      <td>M</td>\n",
       "      <td>ATA</td>\n",
       "      <td>140</td>\n",
       "      <td>289</td>\n",
       "      <td>0</td>\n",
       "      <td>Normal</td>\n",
       "      <td>172</td>\n",
       "      <td>N</td>\n",
       "      <td>0.0</td>\n",
       "      <td>Up</td>\n",
       "      <td>0</td>\n",
       "    </tr>\n",
       "    <tr>\n",
       "      <th>1</th>\n",
       "      <td>49.0</td>\n",
       "      <td>F</td>\n",
       "      <td>NAP</td>\n",
       "      <td>160</td>\n",
       "      <td>180</td>\n",
       "      <td>0</td>\n",
       "      <td>Normal</td>\n",
       "      <td>156</td>\n",
       "      <td>N</td>\n",
       "      <td>1.0</td>\n",
       "      <td>Flat</td>\n",
       "      <td>1</td>\n",
       "    </tr>\n",
       "    <tr>\n",
       "      <th>2</th>\n",
       "      <td>37.0</td>\n",
       "      <td>M</td>\n",
       "      <td>ATA</td>\n",
       "      <td>130</td>\n",
       "      <td>283</td>\n",
       "      <td>0</td>\n",
       "      <td>ST</td>\n",
       "      <td>98</td>\n",
       "      <td>N</td>\n",
       "      <td>0.0</td>\n",
       "      <td>Up</td>\n",
       "      <td>0</td>\n",
       "    </tr>\n",
       "  </tbody>\n",
       "</table>\n",
       "</div>"
      ],
      "text/plain": [
       "    Age Sex ChestPainType  RestingBP  Cholesterol  FastingBS RestingECG  \\\n",
       "0  40.0   M           ATA        140          289          0     Normal   \n",
       "1  49.0   F           NAP        160          180          0     Normal   \n",
       "2  37.0   M           ATA        130          283          0         ST   \n",
       "\n",
       "   MaxHR ExerciseAngina  Oldpeak ST_Slope  HeartDisease  \n",
       "0    172              N      0.0       Up             0  \n",
       "1    156              N      1.0     Flat             1  \n",
       "2     98              N      0.0       Up             0  "
      ]
     },
     "execution_count": 2,
     "metadata": {},
     "output_type": "execute_result"
    }
   ],
   "source": [
    "#read data\n",
    "hrt = pd.read_csv('heart.csv')\n",
    "hrt.head(3)"
   ]
  },
  {
   "cell_type": "code",
   "execution_count": 3,
   "id": "f390f0dc-7847-44c5-b6ff-67815b6642c6",
   "metadata": {},
   "outputs": [
    {
     "data": {
      "text/plain": [
       "(918, 12)"
      ]
     },
     "execution_count": 3,
     "metadata": {},
     "output_type": "execute_result"
    }
   ],
   "source": [
    "hrt.shape"
   ]
  },
  {
   "cell_type": "code",
   "execution_count": 4,
   "id": "2b861a6c-f0d1-4482-b2cd-5c54ddfe77f6",
   "metadata": {},
   "outputs": [
    {
     "data": {
      "text/html": [
       "<div>\n",
       "<style scoped>\n",
       "    .dataframe tbody tr th:only-of-type {\n",
       "        vertical-align: middle;\n",
       "    }\n",
       "\n",
       "    .dataframe tbody tr th {\n",
       "        vertical-align: top;\n",
       "    }\n",
       "\n",
       "    .dataframe thead th {\n",
       "        text-align: right;\n",
       "    }\n",
       "</style>\n",
       "<table border=\"1\" class=\"dataframe\">\n",
       "  <thead>\n",
       "    <tr style=\"text-align: right;\">\n",
       "      <th></th>\n",
       "      <th>Age</th>\n",
       "      <th>Sex</th>\n",
       "      <th>ChestPainType</th>\n",
       "      <th>RestingBP</th>\n",
       "      <th>Cholesterol</th>\n",
       "      <th>FastingBS</th>\n",
       "      <th>RestingECG</th>\n",
       "      <th>MaxHR</th>\n",
       "      <th>ExerciseAngina</th>\n",
       "      <th>Oldpeak</th>\n",
       "      <th>ST_Slope</th>\n",
       "      <th>HeartDisease</th>\n",
       "    </tr>\n",
       "  </thead>\n",
       "  <tbody>\n",
       "    <tr>\n",
       "      <th>count</th>\n",
       "      <td>914.000000</td>\n",
       "      <td>915</td>\n",
       "      <td>918</td>\n",
       "      <td>918.000000</td>\n",
       "      <td>918.000000</td>\n",
       "      <td>918.000000</td>\n",
       "      <td>918</td>\n",
       "      <td>918.000000</td>\n",
       "      <td>918</td>\n",
       "      <td>918.000000</td>\n",
       "      <td>918</td>\n",
       "      <td>918.000000</td>\n",
       "    </tr>\n",
       "    <tr>\n",
       "      <th>unique</th>\n",
       "      <td>NaN</td>\n",
       "      <td>2</td>\n",
       "      <td>4</td>\n",
       "      <td>NaN</td>\n",
       "      <td>NaN</td>\n",
       "      <td>NaN</td>\n",
       "      <td>3</td>\n",
       "      <td>NaN</td>\n",
       "      <td>2</td>\n",
       "      <td>NaN</td>\n",
       "      <td>3</td>\n",
       "      <td>NaN</td>\n",
       "    </tr>\n",
       "    <tr>\n",
       "      <th>top</th>\n",
       "      <td>NaN</td>\n",
       "      <td>M</td>\n",
       "      <td>ASY</td>\n",
       "      <td>NaN</td>\n",
       "      <td>NaN</td>\n",
       "      <td>NaN</td>\n",
       "      <td>Normal</td>\n",
       "      <td>NaN</td>\n",
       "      <td>N</td>\n",
       "      <td>NaN</td>\n",
       "      <td>Flat</td>\n",
       "      <td>NaN</td>\n",
       "    </tr>\n",
       "    <tr>\n",
       "      <th>freq</th>\n",
       "      <td>NaN</td>\n",
       "      <td>723</td>\n",
       "      <td>496</td>\n",
       "      <td>NaN</td>\n",
       "      <td>NaN</td>\n",
       "      <td>NaN</td>\n",
       "      <td>552</td>\n",
       "      <td>NaN</td>\n",
       "      <td>547</td>\n",
       "      <td>NaN</td>\n",
       "      <td>460</td>\n",
       "      <td>NaN</td>\n",
       "    </tr>\n",
       "    <tr>\n",
       "      <th>mean</th>\n",
       "      <td>53.553611</td>\n",
       "      <td>NaN</td>\n",
       "      <td>NaN</td>\n",
       "      <td>132.396514</td>\n",
       "      <td>198.799564</td>\n",
       "      <td>0.233115</td>\n",
       "      <td>NaN</td>\n",
       "      <td>136.809368</td>\n",
       "      <td>NaN</td>\n",
       "      <td>0.887364</td>\n",
       "      <td>NaN</td>\n",
       "      <td>0.553377</td>\n",
       "    </tr>\n",
       "    <tr>\n",
       "      <th>std</th>\n",
       "      <td>9.424972</td>\n",
       "      <td>NaN</td>\n",
       "      <td>NaN</td>\n",
       "      <td>18.514154</td>\n",
       "      <td>109.384145</td>\n",
       "      <td>0.423046</td>\n",
       "      <td>NaN</td>\n",
       "      <td>25.460334</td>\n",
       "      <td>NaN</td>\n",
       "      <td>1.066570</td>\n",
       "      <td>NaN</td>\n",
       "      <td>0.497414</td>\n",
       "    </tr>\n",
       "    <tr>\n",
       "      <th>min</th>\n",
       "      <td>28.000000</td>\n",
       "      <td>NaN</td>\n",
       "      <td>NaN</td>\n",
       "      <td>0.000000</td>\n",
       "      <td>0.000000</td>\n",
       "      <td>0.000000</td>\n",
       "      <td>NaN</td>\n",
       "      <td>60.000000</td>\n",
       "      <td>NaN</td>\n",
       "      <td>-2.600000</td>\n",
       "      <td>NaN</td>\n",
       "      <td>0.000000</td>\n",
       "    </tr>\n",
       "    <tr>\n",
       "      <th>25%</th>\n",
       "      <td>47.000000</td>\n",
       "      <td>NaN</td>\n",
       "      <td>NaN</td>\n",
       "      <td>120.000000</td>\n",
       "      <td>173.250000</td>\n",
       "      <td>0.000000</td>\n",
       "      <td>NaN</td>\n",
       "      <td>120.000000</td>\n",
       "      <td>NaN</td>\n",
       "      <td>0.000000</td>\n",
       "      <td>NaN</td>\n",
       "      <td>0.000000</td>\n",
       "    </tr>\n",
       "    <tr>\n",
       "      <th>50%</th>\n",
       "      <td>54.000000</td>\n",
       "      <td>NaN</td>\n",
       "      <td>NaN</td>\n",
       "      <td>130.000000</td>\n",
       "      <td>223.000000</td>\n",
       "      <td>0.000000</td>\n",
       "      <td>NaN</td>\n",
       "      <td>138.000000</td>\n",
       "      <td>NaN</td>\n",
       "      <td>0.600000</td>\n",
       "      <td>NaN</td>\n",
       "      <td>1.000000</td>\n",
       "    </tr>\n",
       "    <tr>\n",
       "      <th>75%</th>\n",
       "      <td>60.000000</td>\n",
       "      <td>NaN</td>\n",
       "      <td>NaN</td>\n",
       "      <td>140.000000</td>\n",
       "      <td>267.000000</td>\n",
       "      <td>0.000000</td>\n",
       "      <td>NaN</td>\n",
       "      <td>156.000000</td>\n",
       "      <td>NaN</td>\n",
       "      <td>1.500000</td>\n",
       "      <td>NaN</td>\n",
       "      <td>1.000000</td>\n",
       "    </tr>\n",
       "    <tr>\n",
       "      <th>max</th>\n",
       "      <td>77.000000</td>\n",
       "      <td>NaN</td>\n",
       "      <td>NaN</td>\n",
       "      <td>200.000000</td>\n",
       "      <td>603.000000</td>\n",
       "      <td>1.000000</td>\n",
       "      <td>NaN</td>\n",
       "      <td>202.000000</td>\n",
       "      <td>NaN</td>\n",
       "      <td>6.200000</td>\n",
       "      <td>NaN</td>\n",
       "      <td>1.000000</td>\n",
       "    </tr>\n",
       "  </tbody>\n",
       "</table>\n",
       "</div>"
      ],
      "text/plain": [
       "               Age  Sex ChestPainType   RestingBP  Cholesterol   FastingBS  \\\n",
       "count   914.000000  915           918  918.000000   918.000000  918.000000   \n",
       "unique         NaN    2             4         NaN          NaN         NaN   \n",
       "top            NaN    M           ASY         NaN          NaN         NaN   \n",
       "freq           NaN  723           496         NaN          NaN         NaN   \n",
       "mean     53.553611  NaN           NaN  132.396514   198.799564    0.233115   \n",
       "std       9.424972  NaN           NaN   18.514154   109.384145    0.423046   \n",
       "min      28.000000  NaN           NaN    0.000000     0.000000    0.000000   \n",
       "25%      47.000000  NaN           NaN  120.000000   173.250000    0.000000   \n",
       "50%      54.000000  NaN           NaN  130.000000   223.000000    0.000000   \n",
       "75%      60.000000  NaN           NaN  140.000000   267.000000    0.000000   \n",
       "max      77.000000  NaN           NaN  200.000000   603.000000    1.000000   \n",
       "\n",
       "       RestingECG       MaxHR ExerciseAngina     Oldpeak ST_Slope  \\\n",
       "count         918  918.000000            918  918.000000      918   \n",
       "unique          3         NaN              2         NaN        3   \n",
       "top        Normal         NaN              N         NaN     Flat   \n",
       "freq          552         NaN            547         NaN      460   \n",
       "mean          NaN  136.809368            NaN    0.887364      NaN   \n",
       "std           NaN   25.460334            NaN    1.066570      NaN   \n",
       "min           NaN   60.000000            NaN   -2.600000      NaN   \n",
       "25%           NaN  120.000000            NaN    0.000000      NaN   \n",
       "50%           NaN  138.000000            NaN    0.600000      NaN   \n",
       "75%           NaN  156.000000            NaN    1.500000      NaN   \n",
       "max           NaN  202.000000            NaN    6.200000      NaN   \n",
       "\n",
       "        HeartDisease  \n",
       "count     918.000000  \n",
       "unique           NaN  \n",
       "top              NaN  \n",
       "freq             NaN  \n",
       "mean        0.553377  \n",
       "std         0.497414  \n",
       "min         0.000000  \n",
       "25%         0.000000  \n",
       "50%         1.000000  \n",
       "75%         1.000000  \n",
       "max         1.000000  "
      ]
     },
     "execution_count": 4,
     "metadata": {},
     "output_type": "execute_result"
    }
   ],
   "source": [
    "hrt.describe(include = 'all')"
   ]
  },
  {
   "cell_type": "code",
   "execution_count": 5,
   "id": "28922cdf-1b97-4056-b011-734c5601645a",
   "metadata": {},
   "outputs": [],
   "source": [
    "# describe gives the statistical summary of all columns"
   ]
  },
  {
   "cell_type": "code",
   "execution_count": 6,
   "id": "ef88ab8d-7f28-4e1e-b1ea-ac3089476774",
   "metadata": {},
   "outputs": [
    {
     "data": {
      "text/plain": [
       "Age               4\n",
       "Sex               3\n",
       "ChestPainType     0\n",
       "RestingBP         0\n",
       "Cholesterol       0\n",
       "FastingBS         0\n",
       "RestingECG        0\n",
       "MaxHR             0\n",
       "ExerciseAngina    0\n",
       "Oldpeak           0\n",
       "ST_Slope          0\n",
       "HeartDisease      0\n",
       "dtype: int64"
      ]
     },
     "execution_count": 6,
     "metadata": {},
     "output_type": "execute_result"
    }
   ],
   "source": [
    "#checking null values\n",
    "hrt.isna().sum()"
   ]
  },
  {
   "cell_type": "code",
   "execution_count": 37,
   "id": "29d82359-bd1b-423d-8135-dc05b99f996c",
   "metadata": {},
   "outputs": [
    {
     "name": "stdout",
     "output_type": "stream",
     "text": [
      "<class 'pandas.core.frame.DataFrame'>\n",
      "RangeIndex: 918 entries, 0 to 917\n",
      "Data columns (total 12 columns):\n",
      " #   Column          Non-Null Count  Dtype  \n",
      "---  ------          --------------  -----  \n",
      " 0   Age             918 non-null    float64\n",
      " 1   Sex             918 non-null    object \n",
      " 2   ChestPainType   918 non-null    object \n",
      " 3   RestingBP       918 non-null    int64  \n",
      " 4   Cholesterol     918 non-null    int64  \n",
      " 5   FastingBS       918 non-null    int64  \n",
      " 6   RestingECG      918 non-null    object \n",
      " 7   MaxHR           918 non-null    int64  \n",
      " 8   ExerciseAngina  918 non-null    object \n",
      " 9   Oldpeak         918 non-null    float64\n",
      " 10  ST_Slope        918 non-null    object \n",
      " 11  HeartDisease    918 non-null    int64  \n",
      "dtypes: float64(2), int64(5), object(5)\n",
      "memory usage: 86.2+ KB\n"
     ]
    }
   ],
   "source": [
    "hrt.info()"
   ]
  },
  {
   "cell_type": "code",
   "execution_count": 8,
   "id": "023b6f7d-a006-4233-a849-5f2c0941e866",
   "metadata": {},
   "outputs": [],
   "source": [
    "#filling null values in age column with average age\n",
    "hrt['Age'].fillna(np.mean(hrt['Age']),inplace = True)"
   ]
  },
  {
   "cell_type": "code",
   "execution_count": 9,
   "id": "f5696b8c-063d-4341-b2d3-5849445b6141",
   "metadata": {},
   "outputs": [
    {
     "data": {
      "text/plain": [
       "Sex\n",
       "M    723\n",
       "F    192\n",
       "Name: count, dtype: int64"
      ]
     },
     "execution_count": 9,
     "metadata": {},
     "output_type": "execute_result"
    }
   ],
   "source": [
    "#filling null values in sex column with mode\n",
    "hrt['Sex'].value_counts()"
   ]
  },
  {
   "cell_type": "code",
   "execution_count": 10,
   "id": "45964c73-20e8-4fed-bbad-789655844491",
   "metadata": {},
   "outputs": [],
   "source": [
    "hrt['Sex'].fillna('M',inplace = True)"
   ]
  },
  {
   "cell_type": "code",
   "execution_count": 11,
   "id": "b328e879-581e-47cb-aaff-d4f435e69a97",
   "metadata": {},
   "outputs": [
    {
     "data": {
      "text/plain": [
       "Age               0\n",
       "Sex               0\n",
       "ChestPainType     0\n",
       "RestingBP         0\n",
       "Cholesterol       0\n",
       "FastingBS         0\n",
       "RestingECG        0\n",
       "MaxHR             0\n",
       "ExerciseAngina    0\n",
       "Oldpeak           0\n",
       "ST_Slope          0\n",
       "HeartDisease      0\n",
       "dtype: int64"
      ]
     },
     "execution_count": 11,
     "metadata": {},
     "output_type": "execute_result"
    }
   ],
   "source": [
    "#checking null values\n",
    "hrt.isna().sum()"
   ]
  },
  {
   "cell_type": "code",
   "execution_count": 12,
   "id": "748e8478-a2d6-4bb6-bf7c-13e90a962b31",
   "metadata": {},
   "outputs": [],
   "source": [
    "#EXPLORATORY DATA ANALYISIS"
   ]
  },
  {
   "cell_type": "code",
   "execution_count": 13,
   "id": "09c418ab-eb2e-4e6e-9497-d84877b5b237",
   "metadata": {},
   "outputs": [
    {
     "data": {
      "text/plain": [
       "Sex\n",
       "M    726\n",
       "F    192\n",
       "Name: count, dtype: int64"
      ]
     },
     "execution_count": 13,
     "metadata": {},
     "output_type": "execute_result"
    }
   ],
   "source": [
    "gender = hrt.Sex.value_counts()\n",
    "gender"
   ]
  },
  {
   "cell_type": "code",
   "execution_count": 14,
   "id": "07e892dc-961e-4dcd-bdde-a11659d77ddd",
   "metadata": {},
   "outputs": [
    {
     "data": {
      "image/png": "[encoded data removed]",
      "text/plain": [
       "<Figure size 640x480 with 1 Axes>"
      ]
     },
     "metadata": {},
     "output_type": "display_data"
    }
   ],
   "source": [
    "plt.bar(['Male' ,'Female'],gender.values,color ='steelblue')\n",
    "plt.xlabel('Gender')\n",
    "plt.ylabel('Count of person')\n",
    "plt.show()"
   ]
  },
  {
   "cell_type": "code",
   "execution_count": 15,
   "id": "058cfe7c-8503-42be-bc88-4d78242058a6",
   "metadata": {},
   "outputs": [],
   "source": [
    "#A bar chart is used when you want to show a distribution of data points \n",
    "         #across different subgroups of data."
   ]
  },
  {
   "cell_type": "code",
   "execution_count": 16,
   "id": "778895ec-031f-481c-9d67-0e39cc7dfcf6",
   "metadata": {},
   "outputs": [],
   "source": [
    "#TYPES OF CHEST PAIN\n",
    "\n",
    "#ASY IS ASYMPTOMATIC :-No chest pain, but there may be signs of potential heart issues \n",
    "#ATA IS ATYPICAL ANGINA :-Chest pain that's not typical angina\n",
    "#NAP IS NON ANGINAL PAIN :-Pain that's not related to the heart\n",
    "#TA IS TYPICAL ANGINA :-A common type of chest pain related to the heart"
   ]
  },
  {
   "cell_type": "code",
   "execution_count": 17,
   "id": "ed81818c-8f90-4cca-8b94-585184afb57f",
   "metadata": {},
   "outputs": [
    {
     "data": {
      "text/plain": [
       "ChestPainType\n",
       "ASY    496\n",
       "NAP    203\n",
       "ATA    173\n",
       "TA      46\n",
       "Name: count, dtype: int64"
      ]
     },
     "execution_count": 17,
     "metadata": {},
     "output_type": "execute_result"
    }
   ],
   "source": [
    "cp = hrt.ChestPainType.value_counts()\n",
    "cp                          \n",
    "                      "
   ]
  },
  {
   "cell_type": "code",
   "execution_count": 18,
   "id": "7cffac71-a9c2-4bf3-80e2-d2c758169c5d",
   "metadata": {},
   "outputs": [],
   "source": [
    "#People with chestpaintype ASY is more \n",
    "#The people with chest pain type ASY>NAP>ATA>TA"
   ]
  },
  {
   "cell_type": "code",
   "execution_count": 19,
   "id": "1660e662-dab9-415d-97e3-da278e413b85",
   "metadata": {},
   "outputs": [
    {
     "data": {
      "image/png": "[encoded data removed]",
      "text/plain": [
       "<Figure size 640x480 with 1 Axes>"
      ]
     },
     "metadata": {},
     "output_type": "display_data"
    }
   ],
   "source": [
    "plt.bar(cp.index,cp.values,color = 'salmon')\n",
    "plt.xlabel('Chest Pain Type')\n",
    "plt.ylabel('count of patients')\n",
    "plt.show()"
   ]
  },
  {
   "cell_type": "code",
   "execution_count": 20,
   "id": "d7d87d31-bc38-416f-a4f5-4c0ce80fe3ff",
   "metadata": {},
   "outputs": [
    {
     "data": {
      "text/plain": [
       "HeartDisease\n",
       "1    508\n",
       "0    410\n",
       "Name: count, dtype: int64"
      ]
     },
     "execution_count": 20,
     "metadata": {},
     "output_type": "execute_result"
    }
   ],
   "source": [
    "#heart disease distribution\n",
    "hd = hrt.HeartDisease.value_counts()\n",
    "hd"
   ]
  },
  {
   "cell_type": "code",
   "execution_count": 21,
   "id": "00fb80e8-8ccc-4ad2-b8b2-feb957579aea",
   "metadata": {},
   "outputs": [
    {
     "data": {
      "image/png": "[encoded data removed]",
      "text/plain": [
       "<Figure size 640x480 with 1 Axes>"
      ]
     },
     "metadata": {},
     "output_type": "display_data"
    }
   ],
   "source": [
    "plt.pie(hd.values,labels= ['with heart disease','w/o heart disease'],autopct='%0.1f%%',\n",
    "        explode=[0.01,0.01])\n",
    "plt.show()"
   ]
  },
  {
   "cell_type": "code",
   "execution_count": 22,
   "id": "1380a0f7-a81d-4dfe-bc50-a8ef48fe3608",
   "metadata": {},
   "outputs": [],
   "source": [
    "#HISTOGRAM#\n",
    "      #Shows Frequency distribution of table...."
   ]
  },
  {
   "cell_type": "code",
   "execution_count": 23,
   "id": "2a490420-36e9-458f-956c-bf1e749c4cb8",
   "metadata": {},
   "outputs": [],
   "source": [
    "# Histogram :-univariate graph used to analyze data that contains only one variable"
   ]
  },
  {
   "cell_type": "code",
   "execution_count": 24,
   "id": "d5de3be6-f438-435e-bde7-9c8cdae920fa",
   "metadata": {},
   "outputs": [
    {
     "data": {
      "image/png": "[encoded data removed]",
      "text/plain": [
       "<Figure size 640x480 with 1 Axes>"
      ]
     },
     "metadata": {},
     "output_type": "display_data"
    }
   ],
   "source": [
    "#distribution of cholestrol\n",
    "plt.hist(hrt['Cholesterol'],bins=15,edgecolor = 'skyblue')\n",
    "plt.show()"
   ]
  },
  {
   "cell_type": "code",
   "execution_count": 25,
   "id": "4ff2a235-69d6-4108-a875-87363b00cf68",
   "metadata": {},
   "outputs": [
    {
     "data": {
      "image/png": "[encoded data removed]",
      "text/plain": [
       "<Figure size 640x480 with 1 Axes>"
      ]
     },
     "metadata": {},
     "output_type": "display_data"
    }
   ],
   "source": [
    "#distribution of heartrate\n",
    "plt.hist(hrt.MaxHR,bins=15,color='salmon',edgecolor = 'skyblue')\n",
    "plt.show()"
   ]
  },
  {
   "cell_type": "code",
   "execution_count": 26,
   "id": "c8f9c513-2e1b-466f-95ce-ccd74a73f7c0",
   "metadata": {},
   "outputs": [],
   "source": [
    "#BOXPLOT\n",
    "   # shows frequecy distribution in terms of Quartiles\n",
    "   # to find outliers"
   ]
  },
  {
   "cell_type": "code",
   "execution_count": 27,
   "id": "63f1815a-3583-4b5b-b745-7a47a3fdeb60",
   "metadata": {},
   "outputs": [],
   "source": [
    "##univariate chart##"
   ]
  },
  {
   "cell_type": "code",
   "execution_count": 28,
   "id": "526d1af6-dbf3-40f4-b879-63ecbe61ec87",
   "metadata": {},
   "outputs": [
    {
     "data": {
      "image/png": "[encoded data removed]",
      "text/plain": [
       "<Figure size 640x480 with 1 Axes>"
      ]
     },
     "metadata": {},
     "output_type": "display_data"
    }
   ],
   "source": [
    "plt.boxplot(hrt['Cholesterol'])\n",
    "plt.show()"
   ]
  },
  {
   "cell_type": "code",
   "execution_count": 29,
   "id": "c53e85bf-131e-4235-a2d0-e993b1160537",
   "metadata": {},
   "outputs": [
    {
     "ename": "SyntaxError",
     "evalue": "invalid syntax (586231368.py, line 2)",
     "output_type": "error",
     "traceback": [
      "\u001b[1;36m  Cell \u001b[1;32mIn[29], line 2\u001b[1;36m\u001b[0m\n\u001b[1;33m    .it is bivariate data analysis graph\u001b[0m\n\u001b[1;37m    ^\u001b[0m\n\u001b[1;31mSyntaxError\u001b[0m\u001b[1;31m:\u001b[0m invalid syntax\n"
     ]
    }
   ],
   "source": [
    "#SCATTERPLOT:-\n",
    ".it is bivariate data analysis graph\n",
    ".it is used to show relationship between two continous numerical variables"
   ]
  },
  {
   "cell_type": "code",
   "execution_count": null,
   "id": "71605011-e234-4442-911a-0cc3060d956b",
   "metadata": {},
   "outputs": [],
   "source": [
    "plt.scatter(hrt['ChestPainType'],hrt['Age'])\n",
    "plt.show()"
   ]
  },
  {
   "cell_type": "code",
   "execution_count": null,
   "id": "0d6b19c6-805a-4181-91b1-3e8b424e6085",
   "metadata": {},
   "outputs": [],
   "source": [
    "# with the increase in tha age the chest pain type differs"
   ]
  },
  {
   "cell_type": "code",
   "execution_count": null,
   "id": "bee0a517-4b8d-4bc9-8c0e-25fb976586b0",
   "metadata": {},
   "outputs": [],
   "source": [
    "plt.scatter(hrt.Cholesterol,hrt.RestingBP,color='SkyBlue')\n",
    "plt.xlabel('Cholesterol value')\n",
    "plt.ylabel('Bp at rest')\n",
    "plt.show()"
   ]
  },
  {
   "cell_type": "code",
   "execution_count": null,
   "id": "5f1d308e-9f75-4460-84fb-e540fae6cce7",
   "metadata": {},
   "outputs": [],
   "source": [
    "##The graph shows that their is no conclusive evidence stating Bp changes due to cholesterol"
   ]
  },
  {
   "cell_type": "code",
   "execution_count": null,
   "id": "1d7a1818-a6eb-47cf-9754-c5fe27f9e471",
   "metadata": {},
   "outputs": [],
   "source": [
    "plt.scatter(hrt.Cholesterol,hrt.MaxHR,color ='Green')\n",
    "plt.xlabel('Cholesterol value')\n",
    "plt.ylabel('Heart Rate')\n",
    "plt.show()"
   ]
  },
  {
   "cell_type": "code",
   "execution_count": null,
   "id": "167befdb-6b43-4233-b9ca-aeb5f91fd392",
   "metadata": {},
   "outputs": [],
   "source": [
    "#The graph shows that their is no conclusive evidence stating heart rate changes due to cholesterol"
   ]
  },
  {
   "cell_type": "code",
   "execution_count": null,
   "id": "12fcf2f2-6bc7-4132-934f-6770f3c19aab",
   "metadata": {},
   "outputs": [],
   "source": [
    "#CLUSTERED BAR GRAPH#\n",
    "\n",
    "#clusterd bar graph is achart that compares multiple categories of data within individual subitems......"
   ]
  },
  {
   "cell_type": "code",
   "execution_count": null,
   "id": "3329724a-5d1f-49c5-8f22-b6724020a74d",
   "metadata": {},
   "outputs": [],
   "source": [
    "#clustered bar graph\n",
    "sns.set_style('darkgrid')\n",
    "sns.countplot(x = 'HeartDisease',hue = 'ChestPainType',data = hrt)\n",
    "plt.show()"
   ]
  },
  {
   "cell_type": "code",
   "execution_count": null,
   "id": "d24e36c7-812f-4b2e-9580-e38fc912fa60",
   "metadata": {},
   "outputs": [],
   "source": [
    "sns.set_style('darkgrid')\n",
    "sns.countplot(x='HeartDisease',hue='ExerciseAngina',data = hrt)\n",
    "plt.show()"
   ]
  },
  {
   "cell_type": "code",
   "execution_count": null,
   "id": "82b62c4f-63dc-4c3b-8d45-ffe7f4f546fb",
   "metadata": {},
   "outputs": [],
   "source": [
    "hrt.groupby('HeartDisease')['Cholesterol'].mean()"
   ]
  },
  {
   "cell_type": "code",
   "execution_count": null,
   "id": "76fb9a48-951e-4864-b5d1-21f9c615e608",
   "metadata": {},
   "outputs": [],
   "source": [
    "hrt.groupby('HeartDisease')['RestingBP'].mean()"
   ]
  },
  {
   "cell_type": "code",
   "execution_count": null,
   "id": "87a199e0-9d68-4cc9-871d-c376b48f7dd3",
   "metadata": {},
   "outputs": [],
   "source": [
    "#ENCODING:-ALL THE NON NUMERIC COLUMN ARE ENCODED USING LABEL ENCODER  TO CONVERT \n",
    "       #THEM INTO NUMERICAL REPRESENTATION............\n"
   ]
  },
  {
   "cell_type": "code",
   "execution_count": null,
   "id": "43cef99c-5417-4219-8870-e0adbfbb392b",
   "metadata": {},
   "outputs": [],
   "source": [
    "encode = LabelEncoder()\n",
    "hrt['Sex'] = encode.fit_transform(hrt['Sex'])\n",
    "hrt.ChestPainType = encode.fit_transform(hrt.ChestPainType)\n",
    "hrt.RestingECG = encode.fit_transform(hrt.RestingECG)\n",
    "hrt.ExerciseAngina = encode.fit_transform(hrt.ExerciseAngina)\n",
    "hrt.ST_Slope = encode.fit_transform(hrt.ST_Slope)"
   ]
  },
  {
   "cell_type": "code",
   "execution_count": null,
   "id": "40bb07b3-6fab-40d3-acd0-fdb84b1f315b",
   "metadata": {},
   "outputs": [],
   "source": [
    "X = hrt.iloc[: , : -1]    #all rows and -1 columns\n",
    "y = hrt.HeartDisease\n"
   ]
  },
  {
   "cell_type": "code",
   "execution_count": null,
   "id": "ffb49553-c61a-4c1c-96e4-06fc0c23fe2a",
   "metadata": {},
   "outputs": [],
   "source": [
    "x_tr,x_te,y_tr,y_te = train_test_split(X,y,test_size = 0.25)"
   ]
  },
  {
   "cell_type": "code",
   "execution_count": null,
   "id": "cd8cd82a-1218-439d-a88e-6e87ea84a70f",
   "metadata": {},
   "outputs": [],
   "source": [
    "#LOGISTIC REGRESSION\n",
    "      #Binary Classificaion.........."
   ]
  },
  {
   "cell_type": "code",
   "execution_count": null,
   "id": "173fc5b4-b9f2-443f-b784-e8ddcee9e350",
   "metadata": {},
   "outputs": [],
   "source": [
    "model = LogisticRegression()\n",
    "model.fit(x_tr,y_tr)\n"
   ]
  },
  {
   "cell_type": "code",
   "execution_count": null,
   "id": "48d44d45-2591-4609-931c-ae2f2024c4ed",
   "metadata": {},
   "outputs": [],
   "source": [
    "y_pr = model.predict(x_te)\n",
    "print('the accuracy is :',accuracy_score(y_te,y_pr)*100)\n"
   ]
  },
  {
   "cell_type": "code",
   "execution_count": null,
   "id": "d215f3bb-0509-4ed1-9aee-848c5e53e024",
   "metadata": {},
   "outputs": [],
   "source": [
    "#Hyper parameter tunning using grid search CV\n",
    "max_feat = [0.2,0.5,1.0]\n",
    "max_dep = [2,3,4,5,6,7]\n",
    "param_grid = {'max_features':max_feat,'max_depth':max_dep}\n",
    "\n",
    "model = DecisionTreeClassifier()\n",
    "cls = GridSearchCV(estimator=model,param_grid=param_grid,cv =5,n_jobs=-1,verbose = 2)\n",
    "\n",
    "cls.fit(x_tr,y_tr)\n"
   ]
  },
  {
   "cell_type": "code",
   "execution_count": null,
   "id": "b68d21c3-c60f-4019-84ff-ab72696b36b5",
   "metadata": {},
   "outputs": [],
   "source": [
    "#getting best parameter combination\n",
    "cls.best_params_\n"
   ]
  },
  {
   "cell_type": "code",
   "execution_count": null,
   "id": "782a2c46-6656-45e1-95fd-ce227483ca70",
   "metadata": {},
   "outputs": [],
   "source": [
    "#tunning decision tree with best paramters\n",
    "model = DecisionTreeClassifier(max_depth=5,max_features=0.5)\n",
    "model.fit(x_tr,y_tr)\n",
    "y_pr = model.predict(x_te)\n",
    "acc = accuracy_score(y_te,y_pr)*100\n",
    "accuracies.append(acc)"
   ]
  },
  {
   "cell_type": "code",
   "execution_count": null,
   "id": "7a9df570-83e2-45c4-bce8-0c33ef73088e",
   "metadata": {},
   "outputs": [],
   "source": [
    "accuracies"
   ]
  },
  {
   "cell_type": "code",
   "execution_count": null,
   "id": "d97c6eb5-13b4-4006-9dcf-edcbc17c3bcb",
   "metadata": {},
   "outputs": [],
   "source": [
    "#APPLYING KNN \n",
    "k_vals = [1,2,3,4,5,6,7,8,9,10]\n",
    "accus = []\n",
    "for i in k_vals:\n",
    "    model = KNeighborsClassifier(n_neighbors=i)\n",
    "    model.fit(x_tr,y_tr)\n",
    "    y_pred = model.predict(x_te)\n",
    "    accus.append(accuracy_score(y_te,y_pred)*100)"
   ]
  },
  {
   "cell_type": "code",
   "execution_count": null,
   "id": "93c8c871-6998-46b8-a84d-0f83b9326167",
   "metadata": {},
   "outputs": [],
   "source": [
    "accus"
   ]
  },
  {
   "cell_type": "code",
   "execution_count": null,
   "id": "29af7846-9181-4139-aaa1-9b73d69ec087",
   "metadata": {},
   "outputs": [],
   "source": [
    "#as we get best accuracy for k =7,use that value for no of neighbors\n",
    "model = KNeighborsClassifier(n_neighbors=7)\n",
    "model.fit(x_tr,y_tr)\n",
    "y_pred = model.predict(x_te)\n",
    "accuracies.append(accuracy_score(y_te,y_pred)*100)"
   ]
  },
  {
   "cell_type": "code",
   "execution_count": null,
   "id": "f095d2f3-b546-4cdc-960b-3e828372f954",
   "metadata": {},
   "outputs": [],
   "source": [
    "accuracies"
   ]
  },
  {
   "cell_type": "code",
   "execution_count": null,
   "id": "164e6854-2478-4ae0-80c9-b3f353c47b64",
   "metadata": {},
   "outputs": [],
   "source": [
    "#APPLYING SVM \n",
    "model= SVC()\n",
    "model.fit(x_tr,y_tr)\n",
    "y_pred = model.predict(x_te)\n",
    "accuracy_score(y_te,y_pred)*100\n",
    "accuracies.append(acc)\n",
    "accuracies"
   ]
  },
  {
   "cell_type": "code",
   "execution_count": null,
   "id": "74a37128-ab1c-4834-9623-b7b85d8c8fdb",
   "metadata": {},
   "outputs": [],
   "source": [
    "##NAIVE BAYES\n",
    "model =GaussianNB()\n",
    "model.fit(x_tr,y_tr)\n",
    "y_pred = model.predict(x_te)\n",
    "accuracies.append(accuracy_score(y_te,y_pred)*100)\n",
    "accuracies"
   ]
  },
  {
   "cell_type": "code",
   "execution_count": null,
   "id": "68db7d60-8ff5-490f-a4f3-5e42383a0bba",
   "metadata": {},
   "outputs": [],
   "source": [
    "#using ensemble random forest model\n",
    "from sklearn.ensemble import RandomForestClassifier\n",
    "model = RandomForestClassifier()\n",
    "model.fit(x_tr,y_tr)\n",
    "y_pred = model.predict(x_te)\n",
    "accuracies.append(accuracy_score(y_te,y_pred)*100)\n",
    "accuracies"
   ]
  },
  {
   "cell_type": "code",
   "execution_count": null,
   "id": "c84801ee-47f1-4f41-8ee8-27de31643d11",
   "metadata": {},
   "outputs": [],
   "source": [
    "fig = plt.figure(figsize=(8,4))\n",
    "classifiers = ['log.reg','decision tree','KNN','SVM','Naive Bayes','Random Forest']\n",
    "plt.bar(classifiers,accuracies,color='Lightblue',edgecolor='black')\n",
    "plt.xlabel('classifiers used')\n",
    "plt.ylabel('accuracies obtained')\n",
    "plt.title('comparison of various ML classification Algorithms')\n",
    "plt.show()"
   ]
  },
  {
   "cell_type": "code",
   "execution_count": null,
   "id": "6afd1cda-91e6-4568-b8ec-ef845806c283",
   "metadata": {},
   "outputs": [],
   "source": []
  }
 ],
 "metadata": {
  "kernelspec": {
   "display_name": "Python 3 (ipykernel)",
   "language": "python",
   "name": "python3"
  },
  "language_info": {
   "codemirror_mode": {
    "name": "ipython",
    "version": 3
   },
   "file_extension": ".py",
   "mimetype": "text/x-python",
   "name": "python",
   "nbconvert_exporter": "python",
   "pygments_lexer": "ipython3",
   "version": "3.12.4"
  }
 },
 "nbformat": 4,
 "nbformat_minor": 5
}
